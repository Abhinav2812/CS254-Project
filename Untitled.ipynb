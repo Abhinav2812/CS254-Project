{
 "cells": [
  {
   "cell_type": "code",
   "execution_count": 4,
   "metadata": {
    "scrolled": true
   },
   "outputs": [
    {
     "data": {
      "image/png": "[encoded data removed]",
      "text/plain": [
       "<matplotlib.figure.Figure at 0x7f224cdc44e0>"
      ]
     },
     "metadata": {},
     "output_type": "display_data"
    }
   ],
   "source": [
    "%config IPCompleter.greedy=True\n",
    "%matplotlib inline\n",
    "import networkx as nx\n",
    "from networkx.drawing.nx_agraph import write_dot, graphviz_layout, to_agraph\n",
    "import matplotlib.pyplot as plt\n",
    "plt.gca().invert_yaxis()\n",
    "class Graph:\n",
    "    def __init__(self):\n",
    "        self.nodecolors = {}\n",
    "        self.G = nx.DiGraph()\n",
    "    \n",
    "    def drawGraph(self):\n",
    "        pos =graphviz_layout(self.G, prog='dot')\n",
    "        edges = self.G.edges()\n",
    "        colors = [self.nodecolors[u][v] for u,v in edges]\n",
    "        nx.draw(self.G, pos, with_labels=False, arrows=False, edge_color=colors, node_color='black', width=5)\n",
    "\n",
    "    def add_edge(self, From, To, color='black'):\n",
    "        self.G.add_edge(From,To)\n",
    "        if From in self.nodecolors:\n",
    "            self.nodecolors[From][To] = color\n",
    "        else:\n",
    "            self.nodecolors[From] = {To:color}\n",
    "\n",
    "    def createGraph(self):\n",
    "        self.G.add_node(\"ROOT\")\n",
    "        for i in range(5):\n",
    "            self.G.add_node(\"Child_%i\" % i)\n",
    "            self.G.add_node(\"Grandchild_%i\" % i)\n",
    "            self.G.add_node(\"Greatgrandchild_%i\" % i)\n",
    "            self.add_edge(\"ROOT\", \"Child_%i\" % i,'b')\n",
    "            self.add_edge(\"Child_%i\" % i, \"Grandchild_%i\" % i,'r')\n",
    "            self.add_edge(\"Grandchild_%i\" % i, \"Greatgrandchild_%i\" % i,'b')\n",
    "    \n",
    "    def remove_node(self,node):\n",
    "        self.G.remove_node(node)\n",
    "        \n",
    "    def remove_edge(self,From,To):\n",
    "        self.G.remove_edge(u,v)\n",
    "        nodecolors[u].pop(v,None)\n",
    "        \n",
    "\n",
    "G = Graph()            \n",
    "G.createGraph()\n",
    "G.drawGraph()"
   ]
  },
  {
   "cell_type": "code",
   "execution_count": 3,
   "metadata": {
    "scrolled": true
   },
   "outputs": [
    {
     "data": {
      "image/png": "[encoded data removed]",
      "text/plain": [
       "<matplotlib.figure.Figure at 0x7f227596b4e0>"
      ]
     },
     "metadata": {},
     "output_type": "display_data"
    }
   ],
   "source": [
    "G.remove_node(\"ROOT\")\n",
    "G.drawGraph()"
   ]
  },
  {
   "cell_type": "code",
   "execution_count": null,
   "metadata": {},
   "outputs": [],
   "source": []
  }
 ],
 "metadata": {
  "kernelspec": {
   "display_name": "Python 3",
   "language": "python",
   "name": "python3"
  },
  "language_info": {
   "codemirror_mode": {
    "name": "ipython",
    "version": 3
   },
   "file_extension": ".py",
   "mimetype": "text/x-python",
   "name": "python",
   "nbconvert_exporter": "python",
   "pygments_lexer": "ipython3",
   "version": "3.5.2"
  }
 },
 "nbformat": 4,
 "nbformat_minor": 2
}
